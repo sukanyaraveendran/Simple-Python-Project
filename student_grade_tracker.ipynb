{
  "nbformat": 4,
  "nbformat_minor": 0,
  "metadata": {
    "colab": {
      "provenance": []
    },
    "kernelspec": {
      "name": "python3",
      "display_name": "Python 3"
    },
    "language_info": {
      "name": "python"
    }
  },
  "cells": [
    {
      "cell_type": "markdown",
      "source": [
        "#STUDENT GRADE TRACKER\n",
        "   This project is to track the marks of students.\n",
        "    \n",
        "   The Modules include:\n",
        "\n",
        "*   Add student and marks\n",
        "*   Update marks\n",
        "*   Search a student\n",
        "*   Delete Student details\n",
        "*   Display all student details\n",
        "*   Find class average\n",
        "\n",
        "The language used: Python\n",
        "\n",
        "Data structures used :  Dictionary and list\n",
        "\n",
        "\n"
      ],
      "metadata": {
        "id": "Z6o_QBsK12EB"
      }
    },
    {
      "cell_type": "code",
      "execution_count": 143,
      "metadata": {
        "id": "1G8eZ66htYrS"
      },
      "outputs": [],
      "source": [
        "\n",
        "student = {}\n",
        "\n",
        "def add_student(student_count):\n",
        "\n",
        "  \"\"\" Function to add name and marks of given number of students \"\"\"\n",
        "\n",
        "  for i in range(student_count): # Read the name and marks of student upto given count\n",
        "    marks = []\n",
        "    name = input(\"Enter the name of the student: \")\n",
        "    if name in student:  #check if name already exist in the dictionary\n",
        "      print(\"The student already exist!\\n\")\n",
        "    else:\n",
        "      print(\"Enter the marks in 3 Subjects (Maximum mark:50):\\n \")\n",
        "      for j in range(3):\n",
        "        mark=int(input(f\"Enter the mark in subject{j+1}: \")) # Read the marks in 3 subjects and store as a list\n",
        "        while mark > 50 :\n",
        "          print(\"Maximum mark is 50 !\\n\")\n",
        "          mark=int(input(f\"Enter the mark in subject {j+1}: \"))\n",
        "        marks.append(mark)\n",
        "      student[name] = marks\n",
        "      print(f\"{name} is added successfully!!\\n\")\n",
        "\n",
        "\n"
      ]
    },
    {
      "cell_type": "code",
      "source": [
        "def update_mark(update_name):\n",
        "\n",
        "  \"\"\"Function to update the existing marks of a particular student\"\"\"\n",
        "\n",
        "  if update_name in student: #Check whether given name exist in the dictionary\n",
        "    print(\"Enter new marks in 3 Subjects:(Maximum :50 ) \\n \")\n",
        "    for i in range(3):\n",
        "      new_mark=int(input(f\"Subject{i+1}: \")) #Read new marks\n",
        "      while new_mark > 50 :\n",
        "        print(\"Maximum mark is 50!\\n\")\n",
        "        new_mark=int(input(f\"Subject {i+1}: \"))\n",
        "      student[update_name][i] = new_mark #New marks are stored in mark list by replacing old values\n",
        "    print(f\"Marks of {update_name} is updated Successfully\\nNew Marks: {student[update_name]}\\n\")\n",
        "  else:\n",
        "    print(\"No Student in this name!!\\n\")\n",
        "\n",
        "\n"
      ],
      "metadata": {
        "id": "Pi27DcLfTYEl"
      },
      "execution_count": 144,
      "outputs": []
    },
    {
      "cell_type": "code",
      "source": [
        "def search_student(search_name):\n",
        "\n",
        "  \"\"\"Function to display the details of a specific student\"\"\"\n",
        "\n",
        "  if search_name in  student: #Check whether the given name is present in student dictionary\n",
        "    print(f\"Name: {search_name}\\nMarks: \")\n",
        "    for i in range(3):\n",
        "      print(f\"Subject {i+1}: {student[search_name][i]}\\n\") # The records of the given name is displayed\n",
        "  else :\n",
        "    print(\"No Student exist in this name\\n\")\n",
        "\n"
      ],
      "metadata": {
        "id": "qup-RxSmTjYu"
      },
      "execution_count": 145,
      "outputs": []
    },
    {
      "cell_type": "code",
      "source": [
        "def delete_student(delete_name):\n",
        "\n",
        "  \"\"\"Function to delete the records of a specific student\"\"\"\n",
        "\n",
        "  if delete_name in student: # Check for the existance of the name to be deleted\n",
        "    confirm = input(f\"Student records of {delete_name} found.\\n Are you sure you want to delete? (yes/no)\\n\") #Name found. Ask for confirmation from user\n",
        "    if confirm in ('Yes','yes','YES'): # User input can  be anyone of this\n",
        "      del student[delete_name] #The record with given name is deleted\n",
        "      print(f\"Student records of {delete_name} deleted Successfully!\\n\")\n",
        "      print(\"Updated Records Details\\n\",student,\"\\n\")\n",
        "    else:\n",
        "      print(\"No records deleted..\\n\")\n",
        "  else:\n",
        "    print(\"No Student exist in this name\\n\")\n",
        "\n",
        "\n",
        "\n"
      ],
      "metadata": {
        "id": "oEpj5fXITqQM"
      },
      "execution_count": 146,
      "outputs": []
    },
    {
      "cell_type": "code",
      "source": [
        "def display_all():\n",
        "\n",
        "  \"\"\"Display all student details\"\"\"\n",
        "\n",
        "  if student:    #Check if there is any records in the dictionary\n",
        "    for name,marks in student.items():\n",
        "     print(f\"Name: {name} \\nMarks:\")\n",
        "     for i in range(3):\n",
        "      print(f\"\\tSubject {i+1}: {marks[i]} \") #Print all items\n",
        "    print(\"\\n\")\n",
        "  else:\n",
        "    print(\"No students exist.\\n\")\n",
        "\n",
        "\n"
      ],
      "metadata": {
        "id": "pQbTVg1NTxP5"
      },
      "execution_count": 147,
      "outputs": []
    },
    {
      "cell_type": "code",
      "source": [
        "def class_average():\n",
        "\n",
        "  \"\"\"Function to find the class average by using total marks and total count of marks\"\"\"\n",
        "\n",
        "  total_marks=0\n",
        "  total_count=0\n",
        "  if student:\n",
        "    for marks_got in student.values(): #Iterating through each marks in the dictionary\n",
        "      total_marks += sum(marks_got) #Total marks is calculated by sum of all marks in each list to total marks\n",
        "      total_count += len(marks_got) #Total count is calculated by finding length of each list and adding it\n",
        "    class_average = total_marks/total_count #Average is total sum/total count\n",
        "    print(\"Class Average is: \",round(class_average,2),\"\\n\")\n",
        "  else:\n",
        "    print(\"No records found.\\n\")\n",
        "\n",
        "\n"
      ],
      "metadata": {
        "id": "MnahHk3dT2k2"
      },
      "execution_count": 148,
      "outputs": []
    },
    {
      "cell_type": "code",
      "source": [
        "def starprint():\n",
        "  \"\"\"Function to print a pattern of *\"\"\"\n",
        "  print(\"*************************************\")\n",
        "\n"
      ],
      "metadata": {
        "id": "wnDPtJJ1T7e5"
      },
      "execution_count": 149,
      "outputs": []
    },
    {
      "cell_type": "code",
      "source": [
        "def menu():\n",
        "\n",
        "  \"\"\"Function showing main menu\"\"\"\n",
        "\n",
        "  print(\"Student Grade Tracker\")\n",
        "  starprint()\n",
        "  print(\"1.Add Student\\n2.Update Marks\\n3.Search Student\\n4.Delete Student\\n5.Display All Students \\n6.Class Average\\n7.Exit\\n\")\n",
        "\n"
      ],
      "metadata": {
        "id": "PJuTzmR8T_4A"
      },
      "execution_count": 150,
      "outputs": []
    },
    {
      "cell_type": "code",
      "source": [
        "\n",
        "while True:\n",
        "  menu()\n",
        "  choice = int(input(\"Enter your choice: \"))\n",
        "  if choice == 1 :\n",
        "    student_count = int(input(\"Enter the no. of students to be added: \"))\n",
        "    add_student(student_count)\n",
        "  elif choice == 2 :\n",
        "    update_name = input(\"Enter the name of student whose marks to be updated: \")\n",
        "    update_mark(update_name)\n",
        "  elif choice == 3 :\n",
        "    search_name = input(\"Enter the name to be searched: \")\n",
        "    search_student(search_name)\n",
        "  elif choice == 4 :\n",
        "    delete_name=input(\"Enter name of student whose record to be deleted: \")\n",
        "    delete_student(delete_name)\n",
        "  elif choice == 5 :\n",
        "    display_all()\n",
        "  elif choice == 6 :\n",
        "    class_average()\n",
        "  elif choice == 7 :\n",
        "    print(\"Exiting From Student Grade Tracker!!!\")\n",
        "    break;\n",
        "  else :\n",
        "    print(\"Invalid Choice ! Please select numbers between 1-7\")"
      ],
      "metadata": {
        "colab": {
          "base_uri": "https://localhost:8080/"
        },
        "id": "sk8ilapIT_lJ",
        "outputId": "64b76429-440c-42ad-ddba-925fe4074bc5"
      },
      "execution_count": 151,
      "outputs": [
        {
          "output_type": "stream",
          "name": "stdout",
          "text": [
            "Student Grade Tracker\n",
            "*************************************\n",
            "1.Add Student\n",
            "2.Update Marks\n",
            "3.Search Student\n",
            "4.Delete Student\n",
            "5.Display All Students \n",
            "6.Class Average\n",
            "7.Exit\n",
            "\n",
            "Enter your choice: 1\n",
            "Enter the no. of students to be added: 2\n",
            "Enter the name of the student: dj\n",
            "Enter the marks in 3 Subjects (Maximum mark:50):\n",
            " \n",
            "Enter the mark in subject1: 50\n",
            "Enter the mark in subject2: 28\n",
            "Enter the mark in subject3: 30\n",
            "dj is added successfully!!\n",
            "\n",
            "Enter the name of the student: ffff\n",
            "Enter the marks in 3 Subjects (Maximum mark:50):\n",
            " \n",
            "Enter the mark in subject1: 50\n",
            "Enter the mark in subject2: 35\n",
            "Enter the mark in subject3: 20\n",
            "ffff is added successfully!!\n",
            "\n",
            "Student Grade Tracker\n",
            "*************************************\n",
            "1.Add Student\n",
            "2.Update Marks\n",
            "3.Search Student\n",
            "4.Delete Student\n",
            "5.Display All Students \n",
            "6.Class Average\n",
            "7.Exit\n",
            "\n",
            "Enter your choice: 5\n",
            "Name: dj \n",
            "Marks:\n",
            "\tSubject 1: 50 \n",
            "\tSubject 2: 28 \n",
            "\tSubject 3: 30 \n",
            "Name: ffff \n",
            "Marks:\n",
            "\tSubject 1: 50 \n",
            "\tSubject 2: 35 \n",
            "\tSubject 3: 20 \n",
            "\n",
            "\n",
            "Student Grade Tracker\n",
            "*************************************\n",
            "1.Add Student\n",
            "2.Update Marks\n",
            "3.Search Student\n",
            "4.Delete Student\n",
            "5.Display All Students \n",
            "6.Class Average\n",
            "7.Exit\n",
            "\n",
            "Enter your choice: 7\n",
            "Exiting From Student Grade Tracker!!!\n"
          ]
        }
      ]
    }
  ]
}